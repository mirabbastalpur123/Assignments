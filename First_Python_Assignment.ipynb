{
  "nbformat": 4,
  "nbformat_minor": 0,
  "metadata": {
    "colab": {
      "provenance": [],
      "authorship_tag": "ABX9TyMieyZCELwXcjp8NZlSULLt",
      "include_colab_link": true
    },
    "kernelspec": {
      "name": "python3",
      "display_name": "Python 3"
    },
    "language_info": {
      "name": "python"
    }
  },
  "cells": [
    {
      "cell_type": "markdown",
      "metadata": {
        "id": "view-in-github",
        "colab_type": "text"
      },
      "source": [
        "<a href=\"https://colab.research.google.com/github/mirabbastalpur123/Assignments/blob/master/First_Python_Assignment.ipynb\" target=\"_parent\"><img src=\"https://colab.research.google.com/assets/colab-badge.svg\" alt=\"Open In Colab\"/></a>"
      ]
    },
    {
      "cell_type": "code",
      "source": [
        "print('1) Who developed Python Programming Language?')\n",
        "print(\"Answer => Guido van Rossum, the creator of Python, was inspired by the BBC comedy series Monty Python's Flying Circus while developing the language. He wanted a name that was short, distinctive, and somewhat enigmatic, so he chose to name the language Python.\")\n",
        "print(\"  \")\n",
        "\n",
        "print('2) Which type of programming does python support?')\n",
        "print(\"Answer => Python supports multiple programming paradigms including Object-Oriented Programming (OOP), Imperative Programming, and Functional Programming. Additionally, it also has limited support for procedural and aspect-oriented programming.\")\n",
        "print(\"  \")\n",
        "\n",
        "print('3) Is Python case sensitive when dealing with identifiers?')\n",
        "print(\"Answer => Yes, Python is case-sensitive with respect to identifiers, which include variable names, function names, and other object names. For example, the variables myVariable and myvariable would be considered two different variables in Python..\")\n",
        "print(\"  \")\n",
        "\n",
        "print('4) What is the correct extension of Python file?')\n",
        "print(\"Answer => The correct extension for a Python file is .py. This extension is used to indicate that a file contains Python code that can be executed by a Python interpreter. \")\n",
        "print(\"  \")\n",
        "\n",
        "print('5) Is Python code is compiled or interpreted?) ')\n",
        "print(\"Answer => Python code is interpreted, not compiled. This means that the source code is executed line by line by the Python interpreter, rather than being translated into machine code prior to execution like in compiled languages. The advantage of interpreted languages like Python is that they tend to be easier to develop and debug, while compiled languages can often run faster. \")\n",
        "print(\"  \")\n",
        "\n",
        "print('6) Name a few blocks of code use to define in Python language.')\n",
        "print(\"Answer => There are several blocks of code used to define in Python language: Functions: defined using the def keyword, used to encapsulate a block of code that can be executed multiple times. Classes: defined using the class keyword, used to create custom objects and encapsulate data and methods. If else statements: used to control the flow of the program based on certain conditions. For and while loops: used to repeat blocks of code until a certain condition is met. Try-except blocks: used to handle exceptions, or unexpected errors, in the program. These are some of the most common blocks of code used in Python, but there are many other blocks as well, such as with statements, list comprehensions, and generator expressions, among others. \")\n",
        "print(\"  \")\n",
        "\n",
        "print('7) State a character used to give single line comments in Python.')\n",
        "print(\"Answer => In Python, a single line comment is indicated by a hash symbol (#). Anything following the hash symbol on the same line will be ignored by the Python interpreter and is only there to provide a note or explanation to the reader of the code. For example: # This is a single line comment in Python \")\n",
        "print(\"  \")\n",
        "\n",
        "print('8) Mention function which can help us to find the version of python that we are currently working on.) ')\n",
        "print(\"Answer => To find the version of Python that you are currently working on, you can use the sys module and the version attribute. The following code will print the version of Python you are using: import sys print(sys.version) This will give you the version number of Python, as well as some additional information such as the build number and the platform it's running on. \")\n",
        "print(\"  \")\n",
        "\n",
        "print('9) What does PIP stand for Python? ')\n",
        "print(\"Answer => PIP stands for Pip Installs Packages or Pip Installation Packages. It is a package management system used to install and manage packages (libraries, modules, tools, etc.) written in Python. PIP makes it easier to manage dependencies and keep track of what packages are installed, making it a valuable tool for both developers and system administrators. \")\n",
        "print(\"  \")\n",
        "\n",
        "print('10) Mention few built in function in python. ')\n",
        "print(\"Answer => Python Built-in Functions print( ) function. type( ) function. input( ) function. abs( ) function. pow( ) function. dir( ) function. sorted( ) function. max( ) function. \")\n",
        "print(\"  \")\n",
        "\n",
        "print('11) What is maximum possible length of an identifier in Python? ')\n",
        "print(\"Answer => In Python, there is no explicit limit to the length of an identifier. Identifiers can be as long as memory allows, so the maximum length of an identifier is limited by the amount of memory available in your system. However, it's good practice to keep identifier names short and descriptive, as long as they are still meaningful and easy to understand. \")\n",
        "print(\"  \")\n",
        "\n",
        "print('12) What are the benefits of using Python? ')\n",
        "print(\"Answer => Python offers several benefits, including: ease of use, versatility, a large community, plenty of libraries and modules, cross-platform compatibility, dynamic typing, and readability. These features make Python a popular choice for a wide range of programming tasks, from web development to scientific computing and beyond. \")\n",
        "print(\"  \")"
      ],
      "metadata": {
        "colab": {
          "base_uri": "https://localhost:8080/"
        },
        "id": "dgA_0Xe--Dnm",
        "outputId": "19f290c6-0342-4270-de73-729dde207dae"
      },
      "execution_count": 2,
      "outputs": [
        {
          "output_type": "stream",
          "name": "stdout",
          "text": [
            "1) Who developed Python Programming Language?\n",
            "Answer => Guido van Rossum, the creator of Python, was inspired by the BBC comedy series Monty Python's Flying Circus while developing the language. He wanted a name that was short, distinctive, and somewhat enigmatic, so he chose to name the language Python.\n",
            "  \n",
            "2) Which type of programming does python support?\n",
            "Answer => Python supports multiple programming paradigms including Object-Oriented Programming (OOP), Imperative Programming, and Functional Programming. Additionally, it also has limited support for procedural and aspect-oriented programming.\n",
            "  \n",
            "3) Is Python case sensitive when dealing with identifiers?\n",
            "Answer => Yes, Python is case-sensitive with respect to identifiers, which include variable names, function names, and other object names. For example, the variables myVariable and myvariable would be considered two different variables in Python..\n",
            "  \n",
            "4) What is the correct extension of Python file?\n",
            "Answer => The correct extension for a Python file is .py. This extension is used to indicate that a file contains Python code that can be executed by a Python interpreter. \n",
            "  \n",
            "5) Is Python code is compiled or interpreted?) \n",
            "Answer => Python code is interpreted, not compiled. This means that the source code is executed line by line by the Python interpreter, rather than being translated into machine code prior to execution like in compiled languages. The advantage of interpreted languages like Python is that they tend to be easier to develop and debug, while compiled languages can often run faster. \n",
            "  \n",
            "6) Name a few blocks of code use to define in Python language.\n",
            "Answer => There are several blocks of code used to define in Python language: Functions: defined using the def keyword, used to encapsulate a block of code that can be executed multiple times. Classes: defined using the class keyword, used to create custom objects and encapsulate data and methods. If else statements: used to control the flow of the program based on certain conditions. For and while loops: used to repeat blocks of code until a certain condition is met. Try-except blocks: used to handle exceptions, or unexpected errors, in the program. These are some of the most common blocks of code used in Python, but there are many other blocks as well, such as with statements, list comprehensions, and generator expressions, among others. \n",
            "  \n",
            "7) State a character used to give single line comments in Python.\n",
            "Answer => In Python, a single line comment is indicated by a hash symbol (#). Anything following the hash symbol on the same line will be ignored by the Python interpreter and is only there to provide a note or explanation to the reader of the code. For example: # This is a single line comment in Python \n",
            "  \n",
            "8) Mention function which can help us to find the version of python that we are currently working on.) \n",
            "Answer => To find the version of Python that you are currently working on, you can use the sys module and the version attribute. The following code will print the version of Python you are using: import sys print(sys.version) This will give you the version number of Python, as well as some additional information such as the build number and the platform it's running on. \n",
            "  \n",
            "9) What does PIP stand for Python? \n",
            "Answer => PIP stands for Pip Installs Packages or Pip Installation Packages. It is a package management system used to install and manage packages (libraries, modules, tools, etc.) written in Python. PIP makes it easier to manage dependencies and keep track of what packages are installed, making it a valuable tool for both developers and system administrators. \n",
            "  \n",
            "10) Mention few built in function in python. \n",
            "Answer => Python Built-in Functions print( ) function. type( ) function. input( ) function. abs( ) function. pow( ) function. dir( ) function. sorted( ) function. max( ) function. \n",
            "  \n",
            "11) What is maximum possible length of an identifier in Python? \n",
            "Answer => In Python, there is no explicit limit to the length of an identifier. Identifiers can be as long as memory allows, so the maximum length of an identifier is limited by the amount of memory available in your system. However, it's good practice to keep identifier names short and descriptive, as long as they are still meaningful and easy to understand. \n",
            "  \n",
            "12) What are the benefits of using Python? \n",
            "Answer => Python offers several benefits, including: ease of use, versatility, a large community, plenty of libraries and modules, cross-platform compatibility, dynamic typing, and readability. These features make Python a popular choice for a wide range of programming tasks, from web development to scientific computing and beyond. \n",
            "  \n"
          ]
        }
      ]
    }
  ]
}